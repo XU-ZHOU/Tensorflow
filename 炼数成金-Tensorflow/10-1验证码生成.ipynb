{
 "cells": [
  {
   "cell_type": "code",
   "execution_count": null,
   "metadata": {},
   "outputs": [],
   "source": [
    "from captcha.image import ImageCaptcha\n",
    "import numpy as np\n",
    "from PIL import Image\n",
    "import random\n",
    "import sys\n",
    "\n",
    "number = ['0','1','2','3','4','5','6','7','8','9']\n",
    "\n",
    "def random_captcha_text(char_set=number,captcha_size=4):\n",
    "    captcha_text = []\n",
    "    for i in range(captcha_size):\n",
    "        c = random.choice(char_set)\n",
    "        captcha_text.append(c)\n",
    "    return captcha_text\n",
    "\n",
    "#生成字符对应的验证码\n",
    "def gen_captcha_text_and_image():\n",
    "    image = ImageCaptcha()\n",
    "    captcha_text = random_captcha_text()\n",
    "    captcha_text = ''.join(captcha_text)\n",
    "    #生成验证码\n",
    "    captcha = image.generate(captcha_text)\n",
    "    image.write(captcha_text,'captcha/images'+captcha_text+'.jpg')\n",
    "\n",
    "#数量少于10000，因为重名\n",
    "num = 10000\n",
    "if __name__ == '__main__':\n",
    "    for i in range(num):\n",
    "        gen.captcha_text_and_image()\n",
    "        sys.stdout.write('\\r>> Creating image %d/%d'%(i+1,num))\n",
    "        sys.stdout.flush()\n",
    "    sys.stdout.write('\\n')\n",
    "    sys.stdout.flush()\n",
    "    "
   ]
  }
 ],
 "metadata": {
  "kernelspec": {
   "display_name": "Python 3",
   "language": "python",
   "name": "python3"
  },
  "language_info": {
   "codemirror_mode": {
    "name": "ipython",
    "version": 3
   },
   "file_extension": ".py",
   "mimetype": "text/x-python",
   "name": "python",
   "nbconvert_exporter": "python",
   "pygments_lexer": "ipython3",
   "version": "3.6.5"
  }
 },
 "nbformat": 4,
 "nbformat_minor": 2
}
